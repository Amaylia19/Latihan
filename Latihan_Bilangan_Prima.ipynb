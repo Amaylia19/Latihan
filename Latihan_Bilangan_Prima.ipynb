{
  "nbformat": 4,
  "nbformat_minor": 0,
  "metadata": {
    "colab": {
      "provenance": []
    },
    "kernelspec": {
      "name": "python3",
      "display_name": "Python 3"
    },
    "language_info": {
      "name": "python"
    }
  },
  "cells": [
    {
      "cell_type": "code",
      "execution_count": null,
      "metadata": {
        "colab": {
          "base_uri": "https://localhost:8080/"
        },
        "id": "wm1uqfYDrQIE",
        "outputId": "ae2673f4-8c31-448d-f3c6-8f3cd1638a3a"
      },
      "outputs": [
        {
          "output_type": "stream",
          "name": "stdout",
          "text": [
            "input satu angka bilangan asli say : 121\n",
            "121 adalah angka prima\n"
          ]
        }
      ],
      "source": [
        "n = int(input('input satu angka bilangan asli say : '))\n",
        "angka_prima = True\n",
        "if(n == 1):\n",
        "  angka_prima = False\n",
        "elif((n == 2) or (n == 5) or (n == 7)):\n",
        "  angka_prima = True\n",
        "elif((n % 5 == 0) or (n % 7 == 0)):\n",
        "  angka_prima = False\n",
        "elif(n != 3) and (n % 2 == 1) and ((n % 3 == 1) or (n % 3 == 2) and (n % 5 == 0) or (n % 7 == 0)):\n",
        "  angka_prima = True\n",
        "else:\n",
        "  angka_prima = False\n",
        "\n",
        "if(angka_prima):\n",
        "  print(n, \"adalah angka prima\")\n",
        "else:\n",
        "  print(n, \"bukan prima\")"
      ]
    },
    {
      "cell_type": "code",
      "source": [
        "print('***Selamat datang di program mencari bilangan Prima***')\n",
        "print('Dalam rentang 1000n hingga 1000(n+1)')\n",
        "print('-------------------------------------------------------')\n",
        "\n",
        "n_08 = int('08')\n",
        "print(f\"Diketahui nilai n = {n_08}\")\n",
        "print('-------------------------------------------------------')\n",
        "\n",
        "\n",
        "mulai_08 = 1000 * n_08\n",
        "akhir_08 = 1000 * (n_08 + 1)\n",
        "\n",
        "print(f\"Rentang yang diperiksa: dari {mulai_08} hingga {akhir_08}\")\n",
        "print('-------------------------------------------------------')\n",
        "\n",
        "prima_08 = []\n",
        "jumlah_08 = 0\n",
        "for bilangan_08 in range(mulai_08, akhir_08):\n",
        "    prima_angka_08 = True\n",
        "    if bilangan_08 < 2:\n",
        "        prima_angka_08 = False\n",
        "    else:\n",
        "        for i_08 in range(2, int(bilangan_08**0.5) + 1):\n",
        "            if bilangan_08 % i_08 == 0:\n",
        "                prima_angka_08 = False\n",
        "                break\n",
        "    if prima_angka_08:\n",
        "        prima_08.append(bilangan_08)\n",
        "        jumlah_08 += 1\n",
        "\n",
        "if prima_08:\n",
        "    print(\"Bilangan prima yang ditemukan:\")\n",
        "    for prima in prima_08:\n",
        "        print(f\"{prima}, \", end='')\n",
        "    print()\n",
        "    print(f\"Total Jumlah Bilangan Prima = {jumlah_08}\")\n",
        "else:\n",
        "    print(f\"Tidak ada bilangan prima dalam rentang antara {mulai_08} dan {akhir_08}.\")\n",
        "print('=======================================================')"
      ],
      "metadata": {
        "colab": {
          "base_uri": "https://localhost:8080/"
        },
        "id": "26FzKIdMGA4F",
        "outputId": "cd96133a-e780-4bef-defc-ba67f9cdbac1"
      },
      "execution_count": null,
      "outputs": [
        {
          "output_type": "stream",
          "name": "stdout",
          "text": [
            "***Selamat datang di program mencari bilangan Prima***\n",
            "Dalam rentang 1000n hingga 1000(n+1)\n",
            "-------------------------------------------------------\n",
            "Diketahui nilai n = 8\n",
            "-------------------------------------------------------\n",
            "Rentang yang diperiksa: dari 8000 hingga 9000\n",
            "-------------------------------------------------------\n",
            "Bilangan prima yang ditemukan:\n",
            "8009, 8011, 8017, 8039, 8053, 8059, 8069, 8081, 8087, 8089, 8093, 8101, 8111, 8117, 8123, 8147, 8161, 8167, 8171, 8179, 8191, 8209, 8219, 8221, 8231, 8233, 8237, 8243, 8263, 8269, 8273, 8287, 8291, 8293, 8297, 8311, 8317, 8329, 8353, 8363, 8369, 8377, 8387, 8389, 8419, 8423, 8429, 8431, 8443, 8447, 8461, 8467, 8501, 8513, 8521, 8527, 8537, 8539, 8543, 8563, 8573, 8581, 8597, 8599, 8609, 8623, 8627, 8629, 8641, 8647, 8663, 8669, 8677, 8681, 8689, 8693, 8699, 8707, 8713, 8719, 8731, 8737, 8741, 8747, 8753, 8761, 8779, 8783, 8803, 8807, 8819, 8821, 8831, 8837, 8839, 8849, 8861, 8863, 8867, 8887, 8893, 8923, 8929, 8933, 8941, 8951, 8963, 8969, 8971, 8999, \n",
            "Total Jumlah Bilangan Prima = 110\n",
            "=======================================================\n"
          ]
        }
      ]
    },
    {
      "cell_type": "code",
      "source": [
        "print('Hallo ayo kita cek angka prima')\n",
        "print('======================================')\n",
        "print()\n",
        "\n",
        "n = int(input('Input satu bilangan asli: '))\n",
        "\n",
        "angka_prima = True\n",
        "if((n == 0) or (n == 1)):\n",
        "  angka_prima = False\n",
        "else:\n",
        "  for i in range(2,(n//2)):\n",
        "    if ((n % i) == 0):\n",
        "       angka_prima = False\n",
        "       break\n",
        "\n",
        "if(angka_prima):\n",
        "  print(n,'adalah angka prima')\n",
        "else:\n",
        "  print(n,'bukan angka prima')"
      ],
      "metadata": {
        "colab": {
          "base_uri": "https://localhost:8080/"
        },
        "id": "nUvs_7DNzpRF",
        "outputId": "e490b907-110f-4c1e-fb68-37d16b8a49cc"
      },
      "execution_count": null,
      "outputs": [
        {
          "output_type": "stream",
          "name": "stdout",
          "text": [
            "Hallo ayo kita cek angka prima\n",
            "======================================\n",
            "\n",
            "Input satu bilangan asli: 8\n",
            "8 bukan angka prima\n"
          ]
        }
      ]
    },
    {
      "cell_type": "code",
      "source": [
        "print('Hallo ayo kita cek angka-angka prima')\n",
        "print('======================================')\n",
        "print()\n",
        "\n",
        "n = int(input('Input satu bilangan asli: '))\n",
        "\n",
        "angka_prima = True\n",
        "if((n == 0) or (n == 1)):\n",
        "  angka_prima = False\n",
        "else:\n",
        "  for i in range(2,(int(n**1/2))):\n",
        "    if ((n % i) == 0):\n",
        "       angka_prima = False\n",
        "       break\n",
        "\n",
        "if(angka_prima):\n",
        "  print(n,'adalah angka prima')\n",
        "else:\n",
        "  print(n,'bukan angka prima')"
      ],
      "metadata": {
        "colab": {
          "base_uri": "https://localhost:8080/"
        },
        "id": "wAQ_b0Wh-GCo",
        "outputId": "30d734e5-82c3-4f6b-f878-a58d9a20b722"
      },
      "execution_count": null,
      "outputs": [
        {
          "output_type": "stream",
          "name": "stdout",
          "text": [
            "Hallo ayo kita cek angka-angka prima\n",
            "======================================\n",
            "\n",
            "Input satu bilangan asli: 4\n",
            "4 adalah angka prima\n"
          ]
        }
      ]
    }
  ]
}